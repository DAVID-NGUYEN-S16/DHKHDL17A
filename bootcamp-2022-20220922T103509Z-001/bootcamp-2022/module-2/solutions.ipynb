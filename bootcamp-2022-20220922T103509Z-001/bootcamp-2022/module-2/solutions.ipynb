{
  "nbformat": 4,
  "nbformat_minor": 0,
  "metadata": {
    "colab": {
      "name": "solutions.ipynb",
      "provenance": [],
      "toc_visible": true,
      "collapsed_sections": []
    },
    "kernelspec": {
      "name": "python3",
      "display_name": "Python 3"
    },
    "language_info": {
      "name": "python"
    }
  },
  "cells": [
    {
      "cell_type": "markdown",
      "source": [
        "**Bài tập Python**\n",
        "---\n",
        "\n",
        "# CƠ BẢN\n",
        "\n",
        "## Vòng lặp\n",
        "\n",
        "**Bài 1** Nhập vào số nguyên dương n. Tính tổng 1 + 2 + ... + n\n",
        "\n",
        "\n",
        "\n"
      ],
      "metadata": {
        "id": "zlAwqtEl8BNm"
      }
    },
    {
      "cell_type": "markdown",
      "source": [
        ""
      ],
      "metadata": {
        "id": "Qcn8Qtp4i1jn"
      }
    },
    {
      "cell_type": "code",
      "source": [
        "n = int(input(\"Nhập n: \"))\n",
        "tong = 0\n",
        "for i in range(1, n+1):\n",
        "  tong += i\n",
        "\n",
        "print(f'\\nTổng là: {tong}')"
      ],
      "metadata": {
        "colab": {
          "base_uri": "https://localhost:8080/"
        },
        "id": "ZovpSis78kHa",
        "outputId": "f17b27b0-b31c-4b0b-fc83-4465f0e2f972"
      },
      "execution_count": null,
      "outputs": [
        {
          "output_type": "stream",
          "name": "stdout",
          "text": [
            "Nhap n: 10\n",
            "55\n"
          ]
        }
      ]
    },
    {
      "cell_type": "markdown",
      "source": [
        "**Bài 2** Nhập vào số nguyên dương n. Cho biết n có bao nhiêu chữ số. Tính tổng các chữ số của n\n",
        "\n"
      ],
      "metadata": {
        "id": "3-rq02CL8pp6"
      }
    },
    {
      "cell_type": "code",
      "source": [
        "n = int(input(\"Nhập n: \"))\n",
        "\n",
        "print(f'\\nSố chữ số của n là: {len(str(abs(n)))}')"
      ],
      "metadata": {
        "colab": {
          "base_uri": "https://localhost:8080/"
        },
        "id": "UnWIyxv28smI",
        "outputId": "b6cc99cb-88a7-426e-bd10-964ad6400525"
      },
      "execution_count": null,
      "outputs": [
        {
          "output_type": "stream",
          "name": "stdout",
          "text": [
            "Nhập n: -245\n",
            "\n",
            "Số chữ số của n là: 3\n"
          ]
        }
      ]
    },
    {
      "cell_type": "markdown",
      "source": [
        "**Bài 3** In ra các số nguyên tố từ 1..100\n",
        "\n"
      ],
      "metadata": {
        "id": "wDRuq5Xk8szg"
      }
    },
    {
      "cell_type": "code",
      "source": [
        "def kiem_tra_nguyen_to(number):\n",
        "  '''\n",
        "  Kiểm tra một số nguyên dương có phải là số nguyên tố hay không?\n",
        "  '''\n",
        "  dem_uoc_so = 0\n",
        "  for i in range(1, number+1):\n",
        "    if number%i==0:\n",
        "      dem_uoc_so += 1\n",
        "\n",
        "  return (dem_uoc_so==2)\n",
        "\n",
        "# In các số nguyên tố\n",
        "# for num in range(1, 101):\n",
        "#   if kiem_tra_nguyen_to(num):\n",
        "#     print(num)\n",
        "\n",
        "# [num for num in range(1, 101) if kiem_tra_nguyen_to(num)]\n",
        "\n",
        "list(filter(kiem_tra_nguyen_to, range(1, 101)))"
      ],
      "metadata": {
        "colab": {
          "base_uri": "https://localhost:8080/"
        },
        "id": "Sf9kYJxB8ujz",
        "outputId": "1dcec775-ef91-40e6-9282-e5bed48297cb"
      },
      "execution_count": null,
      "outputs": [
        {
          "output_type": "stream",
          "name": "stdout",
          "text": [
            "[2, 3, 5, 7, 11, 13, 17, 19, 23, 29, 31, 37, 41, 43, 47, 53, 59, 61, 67, 71, 73, 79, 83, 89, 97]\n"
          ]
        }
      ]
    },
    {
      "cell_type": "markdown",
      "source": [
        "**Bài 4** Nhập số nguyên dương n. In ra số đảo ngược của n"
      ],
      "metadata": {
        "id": "AP3dXAzG8u7n"
      }
    },
    {
      "cell_type": "code",
      "source": [
        "n = int(input(\"Nhập n: \"))\n",
        "tam = str(n)[::-1]\n",
        "\n",
        "print(f'\\nSố đảo ngược của n là: {int(tam)}')\n",
        "\n",
        "# Ghi chú: Đoạn code trên sai trong trường hợp n âm."
      ],
      "metadata": {
        "colab": {
          "base_uri": "https://localhost:8080/"
        },
        "id": "sHgHVp3F8vWE",
        "outputId": "620fa73a-923b-41fd-d762-6385134d76df"
      },
      "execution_count": null,
      "outputs": [
        {
          "output_type": "stream",
          "name": "stdout",
          "text": [
            "Nhập n: 12345\n",
            "\n",
            "Số đảo ngược của n là: 54321\n"
          ]
        }
      ]
    },
    {
      "cell_type": "markdown",
      "source": [
        "## Lớp chứa\n",
        "\n",
        "**Bài 5** Nhập vào hai mảng các số nguyên a và b. Thực hiện các công việc sau:\n",
        "\n",
        "\t1. Xuất các mảng đã nhập\n",
        "\t2. Xuất các mảng đã nhập theo thứ tự đảo ngược\n",
        "\t3. Ghép hai mảng lại thành một mảng c. Xuất mảng c sau khi ghép\n",
        "\t4. Xuất các phần tử ở vị trí chẵn của mảng c\n",
        "\t5. Xuất 3 phần tử cuối cùng của mảng c\n",
        "\t6. Xuất các phần tử là số lẻ trong mảng\n",
        "\t7. Thay thế các phần tử âm trong mảng c bằng số 0\n",
        "\t8. Sắp xếp các phần tử trong c theo thứ tự giảm dần\n"
      ],
      "metadata": {
        "id": "TrEE8_QQ8cvZ"
      }
    },
    {
      "cell_type": "code",
      "source": [
        "# 0. Nhập mảng\n",
        "# txt = \"3, 4, 1, 8, 6, 7\"\n",
        "# a = list(map(int, txt.split(\",\")))\n",
        "# print(a)\n",
        "\n",
        "a = list(map(int, input('Nhập mảng a: ').split(\",\")))\n",
        "\n",
        "b = list(map(int, input('Nhập mảng b: ').split(\",\")))\n"
      ],
      "metadata": {
        "colab": {
          "base_uri": "https://localhost:8080/"
        },
        "id": "57JSyypEC70A",
        "outputId": "280b3164-7290-401d-9076-14a128567e2c"
      },
      "execution_count": null,
      "outputs": [
        {
          "name": "stdout",
          "output_type": "stream",
          "text": [
            "Nhập mảng a: 3, 4, -1, 8, -6, 7\n",
            "Nhập mảng b: 4, 7, -9\n"
          ]
        }
      ]
    },
    {
      "cell_type": "code",
      "source": [
        "# 1. Xuất các mảng đã nhập\n",
        "print(f'Mảng a: {a}')\n",
        "print(f'Mảng b: {b}')"
      ],
      "metadata": {
        "colab": {
          "base_uri": "https://localhost:8080/"
        },
        "id": "gYm8uqV4FGFF",
        "outputId": "28ed0584-61ad-4cb9-ac12-cc3faa9b2c95"
      },
      "execution_count": null,
      "outputs": [
        {
          "output_type": "stream",
          "name": "stdout",
          "text": [
            "Mảng a: [2, 8, 5, 16, 9]\n",
            "Mảng b: [4, 7, 9]\n"
          ]
        }
      ]
    },
    {
      "cell_type": "code",
      "source": [
        "# 2. Xuất các mảng đã nhập theo thứ tự đảo ngược\n",
        "print(f'Mảng a đảo ngược: {a[::-1]}')\n",
        "print(f'Mảng b đảo ngược: {b[::-1]}')"
      ],
      "metadata": {
        "colab": {
          "base_uri": "https://localhost:8080/"
        },
        "id": "ljRC0JcJFNIe",
        "outputId": "58e18ae4-cffc-4729-a0b7-f5c3fa78f04b"
      },
      "execution_count": null,
      "outputs": [
        {
          "output_type": "stream",
          "name": "stdout",
          "text": [
            "Mảng a đảo ngược: [9, 16, 5, 8, 2]\n",
            "Mảng b đảo ngược: [9, 7, 4]\n"
          ]
        }
      ]
    },
    {
      "cell_type": "code",
      "source": [
        "# 3. Ghép hai mảng lại thành một mảng c. Xuất mảng c sau khi ghép\n",
        "c = a + b\n",
        "print(f'Mảng mới sau khi ghép: {c}')"
      ],
      "metadata": {
        "colab": {
          "base_uri": "https://localhost:8080/"
        },
        "id": "PnKoUrqfFW-j",
        "outputId": "0f5eb571-92db-4bc5-8a64-e4d160befcfc"
      },
      "execution_count": null,
      "outputs": [
        {
          "output_type": "stream",
          "name": "stdout",
          "text": [
            "Mảng mới sau khi ghép: [3, 4, -1, 8, -6, 7, 4, 7, -9]\n"
          ]
        }
      ]
    },
    {
      "cell_type": "code",
      "source": [
        "# 4. Xuất các phần tử ở vị trí chẵn của mảng c\n",
        "c[::2]\n",
        "\n",
        "# Xuất các phần tử ở vị trí lẻ\n",
        "# c[1::2]  "
      ],
      "metadata": {
        "colab": {
          "base_uri": "https://localhost:8080/"
        },
        "id": "V5vFz2QXF9GX",
        "outputId": "41195d6a-466d-4c45-f7a5-da7b33b14ce2"
      },
      "execution_count": null,
      "outputs": [
        {
          "output_type": "execute_result",
          "data": {
            "text/plain": [
              "[2, 5, 9, 7]"
            ]
          },
          "metadata": {},
          "execution_count": 39
        }
      ]
    },
    {
      "cell_type": "code",
      "source": [
        "# 5. Xuất 3 phần tử cuối cùng của mảng c\n",
        "c[-3:]"
      ],
      "metadata": {
        "colab": {
          "base_uri": "https://localhost:8080/"
        },
        "id": "QyAyzHlJGShu",
        "outputId": "16b5c3f2-4e5b-440d-b4b9-7f5b1b589128"
      },
      "execution_count": null,
      "outputs": [
        {
          "output_type": "execute_result",
          "data": {
            "text/plain": [
              "[4, 7, 9]"
            ]
          },
          "metadata": {},
          "execution_count": 40
        }
      ]
    },
    {
      "cell_type": "code",
      "source": [
        "# 6. Xuất các phần tử là số lẻ trong mảng\n",
        "[num for num in c if num%2]"
      ],
      "metadata": {
        "colab": {
          "base_uri": "https://localhost:8080/"
        },
        "id": "EIYwKRdGGnzw",
        "outputId": "d2eb885d-f479-46d1-c1b1-a9ada1943586"
      },
      "execution_count": null,
      "outputs": [
        {
          "output_type": "execute_result",
          "data": {
            "text/plain": [
              "[5, 9, 7, 9]"
            ]
          },
          "metadata": {},
          "execution_count": 42
        }
      ]
    },
    {
      "cell_type": "code",
      "source": [
        "# 7. Thay thế các phần tử âm trong mảng c bằng số 0\n",
        "for i in range(len(c)):\n",
        "  if c[i]<0:\n",
        "    c[i] = 0\n",
        "\n",
        "print(c)"
      ],
      "metadata": {
        "colab": {
          "base_uri": "https://localhost:8080/"
        },
        "id": "wvH7yLllD0L9",
        "outputId": "a0a1908d-5465-4362-c2ca-bbf552820b84"
      },
      "execution_count": null,
      "outputs": [
        {
          "output_type": "stream",
          "name": "stdout",
          "text": [
            "[3, 4, 0, 8, 0, 7, 4, 7, 0]\n"
          ]
        }
      ]
    },
    {
      "cell_type": "code",
      "source": [
        "# 8. Sắp xếp các phần tử trong c theo thứ tự giảm dần\n",
        "c.sort(reverse = True)\n",
        "c"
      ],
      "metadata": {
        "colab": {
          "base_uri": "https://localhost:8080/"
        },
        "id": "T14KXcVSGovT",
        "outputId": "cbb5983d-c523-4622-da1d-bda032015ced"
      },
      "execution_count": null,
      "outputs": [
        {
          "output_type": "execute_result",
          "data": {
            "text/plain": [
              "[8, 7, 7, 4, 4, 3, 0, 0, 0]"
            ]
          },
          "metadata": {},
          "execution_count": 48
        }
      ]
    },
    {
      "cell_type": "markdown",
      "source": [
        "\n",
        "**Bài 6** Viết chương trình yêu cầu nhập thông tin danh sách học sinh (mã, họ tên, điểm toán, điểm ngữ văn, điểm anh văn). Thực hiện các công việc sau:\n",
        "\n",
        "\t1. Lưu thông tin các học sinh vào một **dict** có tên `dshs`\n",
        "\t2. Hiển thị thông tin các học sinh đã nhập\n",
        "\t3. Thêm một thông tin điểm trung bình vào mỗi học sinh bằng cách tính trung bình dựa vào 3 cột điểm đã nhập. HIển thị thông tin các học sinh kèm điểm trung bình\n",
        "\t4. Lưu thông tin các học sinh vào một **list** có tên `ds` . Sắp xếp lại `ds` theo thứ tự giảm dần của điểm trung bình và hiển thị thông tin sau khi đã sắp xếp"
      ],
      "metadata": {
        "id": "Z6Lj-LC5DJRC"
      }
    },
    {
      "cell_type": "code",
      "source": [
        "# Nhập danh sách học sinh (giả sử thông tin mỗi học sinh lưu trong một chuỗi)\n",
        "# txt1 = '1, Nguyen Van An, 7, 8.5, 9' \n",
        "# txt2 = '2, Tran Binh, 4, 10, 5.5'\n",
        "# txt3 = '3, Le Minh, 8, 7.5, 6.5'\n",
        "\n",
        "def lay_thong_tin_hs(chuoi):\n",
        "  '''\n",
        "  Trả về list chứa thông tin học sinh\n",
        "\n",
        "  Input: chuoi: chuỗi chứa thông tin học sinh\n",
        "  '''\n",
        "  thong_tin = chuoi.split(',')\n",
        " \n",
        "  thong_tin[0] = int(thong_tin[0])       # Mã học sinh là số nguyên\n",
        "  thong_tin[1] = thong_tin[1].strip()   # Loại bỏ khoảng trắng đầu và cuối chuỗi\n",
        "\n",
        "  # Chuyển đổi các điểm sang số thực\n",
        "  for i in [2, 3, 4]:\n",
        "    thong_tin[i] = float(thong_tin[i])\n",
        "\n",
        "  # Tính điểm trung bình\n",
        "  dtb = (thong_tin[2] + thong_tin[3] + thong_tin[4]) / 3\n",
        "  thong_tin.append(dtb)\n",
        "  \n",
        "  return thong_tin\n"
      ],
      "metadata": {
        "id": "BJHPMh8DC7Jt"
      },
      "execution_count": 24,
      "outputs": []
    },
    {
      "cell_type": "code",
      "source": [
        "dshs = {}\n",
        "\n",
        "soluong = int(input('Nhap so luong hoc sinh: '))\n",
        "for i in range(soluong):\n",
        "  hs = lay_thong_tin_hs(input('Nhap thong tin hoc sinh: '))\n",
        "  dshs[hs[0]] = hs[1:]\n",
        "\n",
        "print(dshs)"
      ],
      "metadata": {
        "colab": {
          "base_uri": "https://localhost:8080/"
        },
        "id": "pFBVpNtZpa9c",
        "outputId": "5b34351c-5b05-4d2b-b787-4b8e38a6c54b"
      },
      "execution_count": 25,
      "outputs": [
        {
          "output_type": "stream",
          "name": "stdout",
          "text": [
            "Nhap so luong hoc sinh: 3\n",
            "Nhap thong tin hoc sinh: 1, Nguyen Van An, 7, 8.5, 9\n",
            "Nhap thong tin hoc sinh: 2, Tran Binh, 4, 10, 5.5\n",
            "Nhap thong tin hoc sinh: 3, Le Minh, 8, 7.5, 6.5\n",
            "{1: ['Nguyen Van An', 7.0, 8.5, 9.0, 8.166666666666666], 2: ['Tran Binh', 4.0, 10.0, 5.5, 6.5], 3: ['Le Minh', 8.0, 7.5, 6.5, 7.333333333333333]}\n"
          ]
        }
      ]
    },
    {
      "cell_type": "code",
      "execution_count": 15,
      "metadata": {
        "id": "HMQkj6cr78Rl"
      },
      "outputs": [],
      "source": [
        "# Xuat danh sach hoc sinh\n",
        "def hien_thi_ds(ds):\n",
        "  '''\n",
        "  Hiển thị danh sách học sinh\n",
        "\n",
        "  Input: ds: dict\n",
        "  '''\n",
        "  for key in ds:\n",
        "    print(f'\\n\\t- {key}, {ds[key][0]}, {ds[key][1]}, {ds[key][2]}, {ds[key][3]}')"
      ]
    },
    {
      "cell_type": "code",
      "source": [
        "print(dshs)\n",
        "\n",
        "hien_thi_ds(dshs)"
      ],
      "metadata": {
        "colab": {
          "base_uri": "https://localhost:8080/"
        },
        "id": "ispPn89Gr-My",
        "outputId": "1dc4dc70-1162-4152-ea47-0419e7341f87"
      },
      "execution_count": 16,
      "outputs": [
        {
          "output_type": "stream",
          "name": "stdout",
          "text": [
            "{1: ['Nguyen Van An', 7.0, 8.5, 9.0], 2: ['Tran Binh', 4.0, 10.0, 5.5], 3: ['Le Minh', 8.0, 7.5, 6.5]}\n",
            "\n",
            "\t- 1, Nguyen Van An, 7.0, 8.5, 9.0\n",
            "\n",
            "\t- 2, Tran Binh, 4.0, 10.0, 5.5\n",
            "\n",
            "\t- 3, Le Minh, 8.0, 7.5, 6.5\n"
          ]
        }
      ]
    },
    {
      "cell_type": "code",
      "source": [
        "from prettytable import PrettyTable\n",
        "\n",
        "t = PrettyTable(['Mã', 'Họ tên', 'Toán', 'Văn', 'Anh', 'DTB'])\n",
        "\n",
        "# Xuat danh sach hoc sinh\n",
        "def hien_thi_bang_ds(ds):\n",
        "  '''\n",
        "  Hiển thị danh sách học sinh\n",
        "\n",
        "  Input: ds: dict\n",
        "  '''\n",
        "  for key in ds:\n",
        "    # t.add_row([key, ds[key][0], ds[key][1], ds[key][2], ds[key][3], ds[key][4]])\n",
        "    t.add_row([key, ds[key][0], ds[key][1], ds[key][2], ds[key][3], '{:.2f}'.format(ds[key][4])])\n",
        "    \n",
        "  print(t)\n",
        "\n",
        "hien_thi_bang_ds(dshs)"
      ],
      "metadata": {
        "colab": {
          "base_uri": "https://localhost:8080/"
        },
        "id": "LgThJsL-tl-t",
        "outputId": "005732c7-99e0-4e1a-d3fc-a9c06024b709"
      },
      "execution_count": 30,
      "outputs": [
        {
          "output_type": "stream",
          "name": "stdout",
          "text": [
            "+----+---------------+------+------+-----+------+\n",
            "| Mã |     Họ tên    | Toán | Văn  | Anh | DTB  |\n",
            "+----+---------------+------+------+-----+------+\n",
            "| 1  | Nguyen Van An | 7.0  | 8.5  | 9.0 | 8.17 |\n",
            "| 2  |   Tran Binh   | 4.0  | 10.0 | 5.5 | 6.50 |\n",
            "| 3  |    Le Minh    | 8.0  | 7.5  | 6.5 | 7.33 |\n",
            "+----+---------------+------+------+-----+------+\n"
          ]
        }
      ]
    },
    {
      "cell_type": "code",
      "source": [
        "# 4. Lưu thông tin các học sinh vào một **list** có tên `ds` . Sắp xếp lại `ds` theo thứ tự giảm dần của điểm trung bình \n",
        "# và hiển thị thông tin sau khi đã sắp xếp\n",
        "\n",
        "# Your code here\n",
        "# ..."
      ],
      "metadata": {
        "id": "JiINpQqsvK-w"
      },
      "execution_count": 32,
      "outputs": []
    }
  ]
}